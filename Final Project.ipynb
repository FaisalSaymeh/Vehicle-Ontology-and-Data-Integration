{
 "cells": [
  {
   "cell_type": "code",
   "execution_count": 77,
   "metadata": {},
   "outputs": [],
   "source": [
    "# Loading Libraries\n",
    "import pandas as pd\n",
    "from rdflib import Graph, Literal, RDF, URIRef, Namespace\n",
    "from rdflib.namespace import XSD"
   ]
  },
  {
   "cell_type": "markdown",
   "metadata": {},
   "source": [
    "## Load CSV Files"
   ]
  },
  {
   "cell_type": "code",
   "execution_count": 2,
   "metadata": {},
   "outputs": [
    {
     "data": {
      "text/html": [
       "<div>\n",
       "<style scoped>\n",
       "    .dataframe tbody tr th:only-of-type {\n",
       "        vertical-align: middle;\n",
       "    }\n",
       "\n",
       "    .dataframe tbody tr th {\n",
       "        vertical-align: top;\n",
       "    }\n",
       "\n",
       "    .dataframe thead th {\n",
       "        text-align: right;\n",
       "    }\n",
       "</style>\n",
       "<table border=\"1\" class=\"dataframe\">\n",
       "  <thead>\n",
       "    <tr style=\"text-align: right;\">\n",
       "      <th></th>\n",
       "      <th>Unnamed: 0</th>\n",
       "      <th>car_brand</th>\n",
       "      <th>car_model</th>\n",
       "      <th>car_price</th>\n",
       "      <th>car_city</th>\n",
       "      <th>car_fuel</th>\n",
       "      <th>car_transmission</th>\n",
       "      <th>car_drive</th>\n",
       "      <th>car_mileage</th>\n",
       "      <th>car_country</th>\n",
       "      <th>car_engine_capacity</th>\n",
       "      <th>car_engine_hp</th>\n",
       "      <th>car_age</th>\n",
       "    </tr>\n",
       "  </thead>\n",
       "  <tbody>\n",
       "    <tr>\n",
       "      <th>0</th>\n",
       "      <td>0</td>\n",
       "      <td>Ford</td>\n",
       "      <td>Focus</td>\n",
       "      <td>550000</td>\n",
       "      <td>Astrakhan</td>\n",
       "      <td>gasoline</td>\n",
       "      <td>manual</td>\n",
       "      <td>FWD</td>\n",
       "      <td>300000</td>\n",
       "      <td>USA</td>\n",
       "      <td>1.8</td>\n",
       "      <td>125</td>\n",
       "      <td>14</td>\n",
       "    </tr>\n",
       "    <tr>\n",
       "      <th>1</th>\n",
       "      <td>1</td>\n",
       "      <td>Mercedes-Benz</td>\n",
       "      <td>GLA-Class</td>\n",
       "      <td>1820000</td>\n",
       "      <td>Astrakhan</td>\n",
       "      <td>gasoline</td>\n",
       "      <td>robot</td>\n",
       "      <td>FWD</td>\n",
       "      <td>88000</td>\n",
       "      <td>DE</td>\n",
       "      <td>1.6</td>\n",
       "      <td>156</td>\n",
       "      <td>10</td>\n",
       "    </tr>\n",
       "    <tr>\n",
       "      <th>2</th>\n",
       "      <td>2</td>\n",
       "      <td>Haval</td>\n",
       "      <td>F7</td>\n",
       "      <td>2600000</td>\n",
       "      <td>Astrakhan</td>\n",
       "      <td>gasoline</td>\n",
       "      <td>robot</td>\n",
       "      <td>4WD</td>\n",
       "      <td>19000</td>\n",
       "      <td>CN</td>\n",
       "      <td>1.5</td>\n",
       "      <td>150</td>\n",
       "      <td>2</td>\n",
       "    </tr>\n",
       "    <tr>\n",
       "      <th>3</th>\n",
       "      <td>3</td>\n",
       "      <td>Toyota</td>\n",
       "      <td>Camry</td>\n",
       "      <td>4200000</td>\n",
       "      <td>Astrakhan</td>\n",
       "      <td>gasoline</td>\n",
       "      <td>automatic</td>\n",
       "      <td>FWD</td>\n",
       "      <td>30000</td>\n",
       "      <td>JP</td>\n",
       "      <td>3.5</td>\n",
       "      <td>249</td>\n",
       "      <td>2</td>\n",
       "    </tr>\n",
       "    <tr>\n",
       "      <th>4</th>\n",
       "      <td>4</td>\n",
       "      <td>OMODA</td>\n",
       "      <td>C5</td>\n",
       "      <td>2125000</td>\n",
       "      <td>Astrakhan</td>\n",
       "      <td>gasoline</td>\n",
       "      <td>CVT</td>\n",
       "      <td>FWD</td>\n",
       "      <td>18824</td>\n",
       "      <td>CN</td>\n",
       "      <td>1.5</td>\n",
       "      <td>147</td>\n",
       "      <td>2</td>\n",
       "    </tr>\n",
       "  </tbody>\n",
       "</table>\n",
       "</div>"
      ],
      "text/plain": [
       "   Unnamed: 0      car_brand      car_model  car_price   car_city  car_fuel  \\\n",
       "0           0           Ford      Focus         550000  Astrakhan  gasoline   \n",
       "1           1  Mercedes-Benz  GLA-Class        1820000  Astrakhan  gasoline   \n",
       "2           2          Haval         F7        2600000  Astrakhan  gasoline   \n",
       "3           3         Toyota      Camry        4200000  Astrakhan  gasoline   \n",
       "4           4          OMODA         C5        2125000  Astrakhan  gasoline   \n",
       "\n",
       "  car_transmission car_drive  car_mileage car_country  car_engine_capacity  \\\n",
       "0           manual       FWD       300000         USA                  1.8   \n",
       "1            robot       FWD        88000          DE                  1.6   \n",
       "2            robot       4WD        19000          CN                  1.5   \n",
       "3        automatic       FWD        30000          JP                  3.5   \n",
       "4              CVT       FWD        18824          CN                  1.5   \n",
       "\n",
       "   car_engine_hp  car_age  \n",
       "0            125       14  \n",
       "1            156       10  \n",
       "2            150        2  \n",
       "3            249        2  \n",
       "4            147        2  "
      ]
     },
     "execution_count": 2,
     "metadata": {},
     "output_type": "execute_result"
    }
   ],
   "source": [
    "data_1 = pd.read_csv(\"car_data_1.csv\")\n",
    "data_1.head()\n"
   ]
  },
  {
   "cell_type": "code",
   "execution_count": 3,
   "metadata": {},
   "outputs": [
    {
     "data": {
      "text/html": [
       "<div>\n",
       "<style scoped>\n",
       "    .dataframe tbody tr th:only-of-type {\n",
       "        vertical-align: middle;\n",
       "    }\n",
       "\n",
       "    .dataframe tbody tr th {\n",
       "        vertical-align: top;\n",
       "    }\n",
       "\n",
       "    .dataframe thead th {\n",
       "        text-align: right;\n",
       "    }\n",
       "</style>\n",
       "<table border=\"1\" class=\"dataframe\">\n",
       "  <thead>\n",
       "    <tr style=\"text-align: right;\">\n",
       "      <th></th>\n",
       "      <th>Make</th>\n",
       "      <th>Model</th>\n",
       "      <th>Year</th>\n",
       "      <th>Engine Fuel Type</th>\n",
       "      <th>Engine HP</th>\n",
       "      <th>Engine Cylinders</th>\n",
       "      <th>Transmission Type</th>\n",
       "      <th>Driven_Wheels</th>\n",
       "      <th>Number of Doors</th>\n",
       "      <th>Market Category</th>\n",
       "      <th>Vehicle Size</th>\n",
       "      <th>Vehicle Style</th>\n",
       "      <th>highway MPG</th>\n",
       "      <th>city mpg</th>\n",
       "      <th>Popularity</th>\n",
       "      <th>MSRP</th>\n",
       "    </tr>\n",
       "  </thead>\n",
       "  <tbody>\n",
       "    <tr>\n",
       "      <th>0</th>\n",
       "      <td>BMW</td>\n",
       "      <td>1 Series M</td>\n",
       "      <td>2011</td>\n",
       "      <td>premium unleaded (required)</td>\n",
       "      <td>335.0</td>\n",
       "      <td>6.0</td>\n",
       "      <td>MANUAL</td>\n",
       "      <td>rear wheel drive</td>\n",
       "      <td>2.0</td>\n",
       "      <td>Factory Tuner,Luxury,High-Performance</td>\n",
       "      <td>Compact</td>\n",
       "      <td>Coupe</td>\n",
       "      <td>26</td>\n",
       "      <td>19</td>\n",
       "      <td>3916</td>\n",
       "      <td>46135</td>\n",
       "    </tr>\n",
       "    <tr>\n",
       "      <th>1</th>\n",
       "      <td>BMW</td>\n",
       "      <td>1 Series</td>\n",
       "      <td>2011</td>\n",
       "      <td>premium unleaded (required)</td>\n",
       "      <td>300.0</td>\n",
       "      <td>6.0</td>\n",
       "      <td>MANUAL</td>\n",
       "      <td>rear wheel drive</td>\n",
       "      <td>2.0</td>\n",
       "      <td>Luxury,Performance</td>\n",
       "      <td>Compact</td>\n",
       "      <td>Convertible</td>\n",
       "      <td>28</td>\n",
       "      <td>19</td>\n",
       "      <td>3916</td>\n",
       "      <td>40650</td>\n",
       "    </tr>\n",
       "    <tr>\n",
       "      <th>2</th>\n",
       "      <td>BMW</td>\n",
       "      <td>1 Series</td>\n",
       "      <td>2011</td>\n",
       "      <td>premium unleaded (required)</td>\n",
       "      <td>300.0</td>\n",
       "      <td>6.0</td>\n",
       "      <td>MANUAL</td>\n",
       "      <td>rear wheel drive</td>\n",
       "      <td>2.0</td>\n",
       "      <td>Luxury,High-Performance</td>\n",
       "      <td>Compact</td>\n",
       "      <td>Coupe</td>\n",
       "      <td>28</td>\n",
       "      <td>20</td>\n",
       "      <td>3916</td>\n",
       "      <td>36350</td>\n",
       "    </tr>\n",
       "    <tr>\n",
       "      <th>3</th>\n",
       "      <td>BMW</td>\n",
       "      <td>1 Series</td>\n",
       "      <td>2011</td>\n",
       "      <td>premium unleaded (required)</td>\n",
       "      <td>230.0</td>\n",
       "      <td>6.0</td>\n",
       "      <td>MANUAL</td>\n",
       "      <td>rear wheel drive</td>\n",
       "      <td>2.0</td>\n",
       "      <td>Luxury,Performance</td>\n",
       "      <td>Compact</td>\n",
       "      <td>Coupe</td>\n",
       "      <td>28</td>\n",
       "      <td>18</td>\n",
       "      <td>3916</td>\n",
       "      <td>29450</td>\n",
       "    </tr>\n",
       "    <tr>\n",
       "      <th>4</th>\n",
       "      <td>BMW</td>\n",
       "      <td>1 Series</td>\n",
       "      <td>2011</td>\n",
       "      <td>premium unleaded (required)</td>\n",
       "      <td>230.0</td>\n",
       "      <td>6.0</td>\n",
       "      <td>MANUAL</td>\n",
       "      <td>rear wheel drive</td>\n",
       "      <td>2.0</td>\n",
       "      <td>Luxury</td>\n",
       "      <td>Compact</td>\n",
       "      <td>Convertible</td>\n",
       "      <td>28</td>\n",
       "      <td>18</td>\n",
       "      <td>3916</td>\n",
       "      <td>34500</td>\n",
       "    </tr>\n",
       "  </tbody>\n",
       "</table>\n",
       "</div>"
      ],
      "text/plain": [
       "  Make       Model  Year             Engine Fuel Type  Engine HP  \\\n",
       "0  BMW  1 Series M  2011  premium unleaded (required)      335.0   \n",
       "1  BMW    1 Series  2011  premium unleaded (required)      300.0   \n",
       "2  BMW    1 Series  2011  premium unleaded (required)      300.0   \n",
       "3  BMW    1 Series  2011  premium unleaded (required)      230.0   \n",
       "4  BMW    1 Series  2011  premium unleaded (required)      230.0   \n",
       "\n",
       "   Engine Cylinders Transmission Type     Driven_Wheels  Number of Doors  \\\n",
       "0               6.0            MANUAL  rear wheel drive              2.0   \n",
       "1               6.0            MANUAL  rear wheel drive              2.0   \n",
       "2               6.0            MANUAL  rear wheel drive              2.0   \n",
       "3               6.0            MANUAL  rear wheel drive              2.0   \n",
       "4               6.0            MANUAL  rear wheel drive              2.0   \n",
       "\n",
       "                         Market Category Vehicle Size Vehicle Style  \\\n",
       "0  Factory Tuner,Luxury,High-Performance      Compact         Coupe   \n",
       "1                     Luxury,Performance      Compact   Convertible   \n",
       "2                Luxury,High-Performance      Compact         Coupe   \n",
       "3                     Luxury,Performance      Compact         Coupe   \n",
       "4                                 Luxury      Compact   Convertible   \n",
       "\n",
       "   highway MPG  city mpg  Popularity   MSRP  \n",
       "0           26        19        3916  46135  \n",
       "1           28        19        3916  40650  \n",
       "2           28        20        3916  36350  \n",
       "3           28        18        3916  29450  \n",
       "4           28        18        3916  34500  "
      ]
     },
     "execution_count": 3,
     "metadata": {},
     "output_type": "execute_result"
    }
   ],
   "source": [
    "data_2 = pd.read_csv(\"car_data_2.csv\")\n",
    "data_2.head()"
   ]
  },
  {
   "cell_type": "markdown",
   "metadata": {},
   "source": [
    "## Data Processing"
   ]
  },
  {
   "cell_type": "markdown",
   "metadata": {},
   "source": [
    "### Standardizing Column Names"
   ]
  },
  {
   "cell_type": "code",
   "execution_count": 4,
   "metadata": {},
   "outputs": [],
   "source": [
    "rename_columns_1 = {\n",
    "\n",
    "    'car_brand': 'Brand',\n",
    "\n",
    "    'car_model': 'Model',\n",
    "\n",
    "    'car_price': 'Price',\n",
    "\n",
    "    'car_city': 'City',\n",
    "\n",
    "    'car_fuel': 'Fuel Type',\n",
    "\n",
    "    'car_transmission': 'Transmission',\n",
    "\n",
    "    'car_drive': 'Drive',\n",
    "\n",
    "    'car_mileage': 'Mileage',\n",
    "\n",
    "    'car_country': 'Country',\n",
    "\n",
    "    'car_engine_capacity': 'Engine Capacity',\n",
    "\n",
    "    'car_engine_hp': 'Engine HP',\n",
    "\n",
    "    'car_age': 'Age'\n",
    "\n",
    "}\n"
   ]
  },
  {
   "cell_type": "code",
   "execution_count": 5,
   "metadata": {},
   "outputs": [],
   "source": [
    "rename_columns_2 = {\n",
    "\n",
    "    'Make': 'Brand',\n",
    "\n",
    "    'Model': 'Model',\n",
    "\n",
    "    'Year': 'Year',\n",
    "\n",
    "    'Engine Fuel Type': 'Fuel Type',\n",
    "\n",
    "    'Engine HP': 'Engine HP',\n",
    "\n",
    "    'Engine Cylinders': 'Engine Cylinders',\n",
    "\n",
    "    'Transmission Type': 'Transmission',\n",
    "\n",
    "    'Driven_Wheels': 'Driven Wheels',\n",
    "\n",
    "    'Number of Doors': 'Number of Doors',\n",
    "\n",
    "    'Market Category': 'Market Category',\n",
    "\n",
    "    'Vehicle Size': 'Vehicle Size',\n",
    "\n",
    "    'Vehicle Style': 'Vehicle Style',\n",
    "\n",
    "    'highway MPG': 'Highway MPG',\n",
    "\n",
    "    'city mpg': 'City MPG',\n",
    "\n",
    "    'Popularity': 'Popularity',\n",
    "\n",
    "    'MSRP': 'Price'\n",
    "\n",
    "}"
   ]
  },
  {
   "cell_type": "code",
   "execution_count": 6,
   "metadata": {},
   "outputs": [],
   "source": [
    "# Apply renaming\n",
    "\n",
    "data_1.rename(columns=rename_columns_1, inplace=True)\n",
    "\n",
    "data_2.rename(columns=rename_columns_2, inplace=True)"
   ]
  },
  {
   "cell_type": "markdown",
   "metadata": {},
   "source": [
    "### Handling Missing Data"
   ]
  },
  {
   "cell_type": "code",
   "execution_count": 7,
   "metadata": {},
   "outputs": [
    {
     "name": "stderr",
     "output_type": "stream",
     "text": [
      "C:\\Users\\faisa\\AppData\\Local\\Temp\\ipykernel_18456\\3247855519.py:3: FutureWarning: A value is trying to be set on a copy of a DataFrame or Series through chained assignment using an inplace method.\n",
      "The behavior will change in pandas 3.0. This inplace method will never work because the intermediate object on which we are setting values always behaves as a copy.\n",
      "\n",
      "For example, when doing 'df[col].method(value, inplace=True)', try using 'df.method({col: value}, inplace=True)' or df[col] = df[col].method(value) instead, to perform the operation inplace on the original object.\n",
      "\n",
      "\n",
      "  data_2['Engine HP'].fillna(data_2['Engine HP'].mean(), inplace=True)\n",
      "C:\\Users\\faisa\\AppData\\Local\\Temp\\ipykernel_18456\\3247855519.py:5: FutureWarning: A value is trying to be set on a copy of a DataFrame or Series through chained assignment using an inplace method.\n",
      "The behavior will change in pandas 3.0. This inplace method will never work because the intermediate object on which we are setting values always behaves as a copy.\n",
      "\n",
      "For example, when doing 'df[col].method(value, inplace=True)', try using 'df.method({col: value}, inplace=True)' or df[col] = df[col].method(value) instead, to perform the operation inplace on the original object.\n",
      "\n",
      "\n",
      "  data_2['Engine Cylinders'].fillna(data_2['Engine Cylinders'].mean(), inplace=True)\n",
      "C:\\Users\\faisa\\AppData\\Local\\Temp\\ipykernel_18456\\3247855519.py:7: FutureWarning: A value is trying to be set on a copy of a DataFrame or Series through chained assignment using an inplace method.\n",
      "The behavior will change in pandas 3.0. This inplace method will never work because the intermediate object on which we are setting values always behaves as a copy.\n",
      "\n",
      "For example, when doing 'df[col].method(value, inplace=True)', try using 'df.method({col: value}, inplace=True)' or df[col] = df[col].method(value) instead, to perform the operation inplace on the original object.\n",
      "\n",
      "\n",
      "  data_2['Number of Doors'].fillna(data_2['Number of Doors'].mode()[0], inplace=True)\n"
     ]
    }
   ],
   "source": [
    "# Handling Missing Data: We'll fill numerical missing values with the mean and categorical with the mode\n",
    "\n",
    "data_2['Engine HP'].fillna(data_2['Engine HP'].mean(), inplace=True)\n",
    "\n",
    "data_2['Engine Cylinders'].fillna(data_2['Engine Cylinders'].mean(), inplace=True)\n",
    "\n",
    "data_2['Number of Doors'].fillna(data_2['Number of Doors'].mode()[0], inplace=True)"
   ]
  },
  {
   "cell_type": "markdown",
   "metadata": {},
   "source": [
    "### Data Type Conversions"
   ]
  },
  {
   "cell_type": "code",
   "execution_count": 8,
   "metadata": {},
   "outputs": [],
   "source": [
    "# Data type conversions: Ensuring data types are appropriate\n",
    "\n",
    "data_2['Engine Cylinders'] = data_2['Engine Cylinders'].astype(int)\n",
    "\n",
    "data_2['Number of Doors'] = data_2['Number of Doors'].astype(int)"
   ]
  },
  {
   "cell_type": "markdown",
   "metadata": {},
   "source": [
    "### Data Cleaning"
   ]
  },
  {
   "cell_type": "code",
   "execution_count": 9,
   "metadata": {},
   "outputs": [],
   "source": [
    "# Data Cleaning: Removing unnecessary columns and standardizing entries\n",
    "\n",
    "# Remove 'Unnamed: 0' from data_1\n",
    "\n",
    "data_1.drop(columns=['Unnamed: 0'], inplace=True)"
   ]
  },
  {
   "cell_type": "markdown",
   "metadata": {},
   "source": [
    "### Display The Cleaned Data"
   ]
  },
  {
   "cell_type": "code",
   "execution_count": 10,
   "metadata": {},
   "outputs": [
    {
     "data": {
      "text/html": [
       "<div>\n",
       "<style scoped>\n",
       "    .dataframe tbody tr th:only-of-type {\n",
       "        vertical-align: middle;\n",
       "    }\n",
       "\n",
       "    .dataframe tbody tr th {\n",
       "        vertical-align: top;\n",
       "    }\n",
       "\n",
       "    .dataframe thead th {\n",
       "        text-align: right;\n",
       "    }\n",
       "</style>\n",
       "<table border=\"1\" class=\"dataframe\">\n",
       "  <thead>\n",
       "    <tr style=\"text-align: right;\">\n",
       "      <th></th>\n",
       "      <th>Brand</th>\n",
       "      <th>Model</th>\n",
       "      <th>Price</th>\n",
       "      <th>City</th>\n",
       "      <th>Fuel Type</th>\n",
       "      <th>Transmission</th>\n",
       "      <th>Drive</th>\n",
       "      <th>Mileage</th>\n",
       "      <th>Country</th>\n",
       "      <th>Engine Capacity</th>\n",
       "      <th>Engine HP</th>\n",
       "      <th>Age</th>\n",
       "    </tr>\n",
       "  </thead>\n",
       "  <tbody>\n",
       "    <tr>\n",
       "      <th>0</th>\n",
       "      <td>Ford</td>\n",
       "      <td>Focus</td>\n",
       "      <td>550000</td>\n",
       "      <td>Astrakhan</td>\n",
       "      <td>gasoline</td>\n",
       "      <td>manual</td>\n",
       "      <td>FWD</td>\n",
       "      <td>300000</td>\n",
       "      <td>USA</td>\n",
       "      <td>1.8</td>\n",
       "      <td>125</td>\n",
       "      <td>14</td>\n",
       "    </tr>\n",
       "    <tr>\n",
       "      <th>1</th>\n",
       "      <td>Mercedes-Benz</td>\n",
       "      <td>GLA-Class</td>\n",
       "      <td>1820000</td>\n",
       "      <td>Astrakhan</td>\n",
       "      <td>gasoline</td>\n",
       "      <td>robot</td>\n",
       "      <td>FWD</td>\n",
       "      <td>88000</td>\n",
       "      <td>DE</td>\n",
       "      <td>1.6</td>\n",
       "      <td>156</td>\n",
       "      <td>10</td>\n",
       "    </tr>\n",
       "    <tr>\n",
       "      <th>2</th>\n",
       "      <td>Haval</td>\n",
       "      <td>F7</td>\n",
       "      <td>2600000</td>\n",
       "      <td>Astrakhan</td>\n",
       "      <td>gasoline</td>\n",
       "      <td>robot</td>\n",
       "      <td>4WD</td>\n",
       "      <td>19000</td>\n",
       "      <td>CN</td>\n",
       "      <td>1.5</td>\n",
       "      <td>150</td>\n",
       "      <td>2</td>\n",
       "    </tr>\n",
       "    <tr>\n",
       "      <th>3</th>\n",
       "      <td>Toyota</td>\n",
       "      <td>Camry</td>\n",
       "      <td>4200000</td>\n",
       "      <td>Astrakhan</td>\n",
       "      <td>gasoline</td>\n",
       "      <td>automatic</td>\n",
       "      <td>FWD</td>\n",
       "      <td>30000</td>\n",
       "      <td>JP</td>\n",
       "      <td>3.5</td>\n",
       "      <td>249</td>\n",
       "      <td>2</td>\n",
       "    </tr>\n",
       "    <tr>\n",
       "      <th>4</th>\n",
       "      <td>OMODA</td>\n",
       "      <td>C5</td>\n",
       "      <td>2125000</td>\n",
       "      <td>Astrakhan</td>\n",
       "      <td>gasoline</td>\n",
       "      <td>CVT</td>\n",
       "      <td>FWD</td>\n",
       "      <td>18824</td>\n",
       "      <td>CN</td>\n",
       "      <td>1.5</td>\n",
       "      <td>147</td>\n",
       "      <td>2</td>\n",
       "    </tr>\n",
       "  </tbody>\n",
       "</table>\n",
       "</div>"
      ],
      "text/plain": [
       "           Brand          Model    Price       City Fuel Type Transmission  \\\n",
       "0           Ford      Focus       550000  Astrakhan  gasoline       manual   \n",
       "1  Mercedes-Benz  GLA-Class      1820000  Astrakhan  gasoline        robot   \n",
       "2          Haval         F7      2600000  Astrakhan  gasoline        robot   \n",
       "3         Toyota      Camry      4200000  Astrakhan  gasoline    automatic   \n",
       "4          OMODA         C5      2125000  Astrakhan  gasoline          CVT   \n",
       "\n",
       "  Drive  Mileage Country  Engine Capacity  Engine HP  Age  \n",
       "0   FWD   300000     USA              1.8        125   14  \n",
       "1   FWD    88000      DE              1.6        156   10  \n",
       "2   4WD    19000      CN              1.5        150    2  \n",
       "3   FWD    30000      JP              3.5        249    2  \n",
       "4   FWD    18824      CN              1.5        147    2  "
      ]
     },
     "execution_count": 10,
     "metadata": {},
     "output_type": "execute_result"
    }
   ],
   "source": [
    "data_1.head()"
   ]
  },
  {
   "cell_type": "code",
   "execution_count": 11,
   "metadata": {},
   "outputs": [
    {
     "data": {
      "text/html": [
       "<div>\n",
       "<style scoped>\n",
       "    .dataframe tbody tr th:only-of-type {\n",
       "        vertical-align: middle;\n",
       "    }\n",
       "\n",
       "    .dataframe tbody tr th {\n",
       "        vertical-align: top;\n",
       "    }\n",
       "\n",
       "    .dataframe thead th {\n",
       "        text-align: right;\n",
       "    }\n",
       "</style>\n",
       "<table border=\"1\" class=\"dataframe\">\n",
       "  <thead>\n",
       "    <tr style=\"text-align: right;\">\n",
       "      <th></th>\n",
       "      <th>Brand</th>\n",
       "      <th>Model</th>\n",
       "      <th>Year</th>\n",
       "      <th>Fuel Type</th>\n",
       "      <th>Engine HP</th>\n",
       "      <th>Engine Cylinders</th>\n",
       "      <th>Transmission</th>\n",
       "      <th>Driven Wheels</th>\n",
       "      <th>Number of Doors</th>\n",
       "      <th>Market Category</th>\n",
       "      <th>Vehicle Size</th>\n",
       "      <th>Vehicle Style</th>\n",
       "      <th>Highway MPG</th>\n",
       "      <th>City MPG</th>\n",
       "      <th>Popularity</th>\n",
       "      <th>Price</th>\n",
       "    </tr>\n",
       "  </thead>\n",
       "  <tbody>\n",
       "    <tr>\n",
       "      <th>0</th>\n",
       "      <td>BMW</td>\n",
       "      <td>1 Series M</td>\n",
       "      <td>2011</td>\n",
       "      <td>premium unleaded (required)</td>\n",
       "      <td>335.0</td>\n",
       "      <td>6</td>\n",
       "      <td>MANUAL</td>\n",
       "      <td>rear wheel drive</td>\n",
       "      <td>2</td>\n",
       "      <td>Factory Tuner,Luxury,High-Performance</td>\n",
       "      <td>Compact</td>\n",
       "      <td>Coupe</td>\n",
       "      <td>26</td>\n",
       "      <td>19</td>\n",
       "      <td>3916</td>\n",
       "      <td>46135</td>\n",
       "    </tr>\n",
       "    <tr>\n",
       "      <th>1</th>\n",
       "      <td>BMW</td>\n",
       "      <td>1 Series</td>\n",
       "      <td>2011</td>\n",
       "      <td>premium unleaded (required)</td>\n",
       "      <td>300.0</td>\n",
       "      <td>6</td>\n",
       "      <td>MANUAL</td>\n",
       "      <td>rear wheel drive</td>\n",
       "      <td>2</td>\n",
       "      <td>Luxury,Performance</td>\n",
       "      <td>Compact</td>\n",
       "      <td>Convertible</td>\n",
       "      <td>28</td>\n",
       "      <td>19</td>\n",
       "      <td>3916</td>\n",
       "      <td>40650</td>\n",
       "    </tr>\n",
       "    <tr>\n",
       "      <th>2</th>\n",
       "      <td>BMW</td>\n",
       "      <td>1 Series</td>\n",
       "      <td>2011</td>\n",
       "      <td>premium unleaded (required)</td>\n",
       "      <td>300.0</td>\n",
       "      <td>6</td>\n",
       "      <td>MANUAL</td>\n",
       "      <td>rear wheel drive</td>\n",
       "      <td>2</td>\n",
       "      <td>Luxury,High-Performance</td>\n",
       "      <td>Compact</td>\n",
       "      <td>Coupe</td>\n",
       "      <td>28</td>\n",
       "      <td>20</td>\n",
       "      <td>3916</td>\n",
       "      <td>36350</td>\n",
       "    </tr>\n",
       "    <tr>\n",
       "      <th>3</th>\n",
       "      <td>BMW</td>\n",
       "      <td>1 Series</td>\n",
       "      <td>2011</td>\n",
       "      <td>premium unleaded (required)</td>\n",
       "      <td>230.0</td>\n",
       "      <td>6</td>\n",
       "      <td>MANUAL</td>\n",
       "      <td>rear wheel drive</td>\n",
       "      <td>2</td>\n",
       "      <td>Luxury,Performance</td>\n",
       "      <td>Compact</td>\n",
       "      <td>Coupe</td>\n",
       "      <td>28</td>\n",
       "      <td>18</td>\n",
       "      <td>3916</td>\n",
       "      <td>29450</td>\n",
       "    </tr>\n",
       "    <tr>\n",
       "      <th>4</th>\n",
       "      <td>BMW</td>\n",
       "      <td>1 Series</td>\n",
       "      <td>2011</td>\n",
       "      <td>premium unleaded (required)</td>\n",
       "      <td>230.0</td>\n",
       "      <td>6</td>\n",
       "      <td>MANUAL</td>\n",
       "      <td>rear wheel drive</td>\n",
       "      <td>2</td>\n",
       "      <td>Luxury</td>\n",
       "      <td>Compact</td>\n",
       "      <td>Convertible</td>\n",
       "      <td>28</td>\n",
       "      <td>18</td>\n",
       "      <td>3916</td>\n",
       "      <td>34500</td>\n",
       "    </tr>\n",
       "  </tbody>\n",
       "</table>\n",
       "</div>"
      ],
      "text/plain": [
       "  Brand       Model  Year                    Fuel Type  Engine HP  \\\n",
       "0   BMW  1 Series M  2011  premium unleaded (required)      335.0   \n",
       "1   BMW    1 Series  2011  premium unleaded (required)      300.0   \n",
       "2   BMW    1 Series  2011  premium unleaded (required)      300.0   \n",
       "3   BMW    1 Series  2011  premium unleaded (required)      230.0   \n",
       "4   BMW    1 Series  2011  premium unleaded (required)      230.0   \n",
       "\n",
       "   Engine Cylinders Transmission     Driven Wheels  Number of Doors  \\\n",
       "0                 6       MANUAL  rear wheel drive                2   \n",
       "1                 6       MANUAL  rear wheel drive                2   \n",
       "2                 6       MANUAL  rear wheel drive                2   \n",
       "3                 6       MANUAL  rear wheel drive                2   \n",
       "4                 6       MANUAL  rear wheel drive                2   \n",
       "\n",
       "                         Market Category Vehicle Size Vehicle Style  \\\n",
       "0  Factory Tuner,Luxury,High-Performance      Compact         Coupe   \n",
       "1                     Luxury,Performance      Compact   Convertible   \n",
       "2                Luxury,High-Performance      Compact         Coupe   \n",
       "3                     Luxury,Performance      Compact         Coupe   \n",
       "4                                 Luxury      Compact   Convertible   \n",
       "\n",
       "   Highway MPG  City MPG  Popularity  Price  \n",
       "0           26        19        3916  46135  \n",
       "1           28        19        3916  40650  \n",
       "2           28        20        3916  36350  \n",
       "3           28        18        3916  29450  \n",
       "4           28        18        3916  34500  "
      ]
     },
     "execution_count": 11,
     "metadata": {},
     "output_type": "execute_result"
    }
   ],
   "source": [
    "data_2.head()"
   ]
  },
  {
   "cell_type": "markdown",
   "metadata": {},
   "source": [
    "## Code to Convert data_1 to RDF"
   ]
  },
  {
   "cell_type": "code",
   "execution_count": 12,
   "metadata": {},
   "outputs": [],
   "source": [
    "# Create an RDF graph\n",
    "g1 = Graph()\n",
    "ns = Namespace(\"http://example.org/vehicle/\")\n",
    "Vehicle = ns.Vehicle"
   ]
  },
  {
   "cell_type": "code",
   "execution_count": 13,
   "metadata": {},
   "outputs": [],
   "source": [
    "# Define custom properties\n",
    "brand = ns.brand\n",
    "model = ns.model\n",
    "price = ns.price\n",
    "fuelType = ns.fuelType\n",
    "transmission = ns.transmission\n",
    "drive = ns.drive\n",
    "engineHP = ns.engineHP\n",
    "age = ns.age"
   ]
  },
  {
   "cell_type": "code",
   "execution_count": 14,
   "metadata": {},
   "outputs": [],
   "source": [
    "# Add data to the RDF graph\n",
    "for index, row in data_1.iterrows():\n",
    "    vehicle_uri = URIRef(ns[f\"Vehicle_1_{index}\"])\n",
    "    g1.add((vehicle_uri, RDF.type, Vehicle))\n",
    "    g1.add((vehicle_uri, brand, Literal(row['Brand'], datatype=XSD.string)))\n",
    "    g1.add((vehicle_uri, model, Literal(row['Model'].strip(), datatype=XSD.string)))\n",
    "    g1.add((vehicle_uri, price, Literal(row['Price'], datatype=XSD.integer)))\n",
    "    g1.add((vehicle_uri, fuelType, Literal(row['Fuel Type'], datatype=XSD.string)))\n",
    "    g1.add((vehicle_uri, transmission, Literal(row['Transmission'], datatype=XSD.string)))\n",
    "    g1.add((vehicle_uri, drive, Literal(row['Drive'], datatype=XSD.string)))\n",
    "    g1.add((vehicle_uri, engineHP, Literal(row['Engine HP'], datatype=XSD.integer)))\n",
    "    g1.add((vehicle_uri, age, Literal(row['Age'], datatype=XSD.integer)))"
   ]
  },
  {
   "cell_type": "code",
   "execution_count": 15,
   "metadata": {},
   "outputs": [
    {
     "data": {
      "text/plain": [
       "<Graph identifier=Nc0e4688cb4cd4e488d74f44e123bffb5 (<class 'rdflib.graph.Graph'>)>"
      ]
     },
     "execution_count": 15,
     "metadata": {},
     "output_type": "execute_result"
    }
   ],
   "source": [
    "# Save the graph to a file\n",
    "rdf_file_path_1 = \"data_1.ttl\"\n",
    "g1.serialize(destination=rdf_file_path_1, format=\"turtle\")"
   ]
  },
  {
   "cell_type": "markdown",
   "metadata": {},
   "source": [
    "## Code to Convert data_2 to RDF"
   ]
  },
  {
   "cell_type": "code",
   "execution_count": 16,
   "metadata": {},
   "outputs": [],
   "source": [
    "# Create an RDF graph\n",
    "g2 = Graph()\n",
    "ns = Namespace(\"http://example.org/vehicle/\")\n",
    "Vehicle = ns.Vehicle"
   ]
  },
  {
   "cell_type": "code",
   "execution_count": 17,
   "metadata": {},
   "outputs": [],
   "source": [
    "# Define custom properties\n",
    "brand = ns.brand\n",
    "model = ns.model\n",
    "price = ns.price\n",
    "fuelType = ns.fuelType\n",
    "transmission = ns.transmission\n",
    "drive = ns.drive\n",
    "engineHP = ns.engineHP\n",
    "year = ns.year\n",
    "engineCylinders = ns.engineCylinders\n",
    "numberOfDoors = ns.numberOfDoors\n",
    "marketCategory = ns.marketCategory\n",
    "vehicleSize = ns.vehicleSize\n",
    "vehicleStyle = ns.vehicleStyle\n",
    "highwayMPG = ns.highwayMPG\n",
    "cityMPG = ns.cityMPG\n",
    "popularity = ns.popularity"
   ]
  },
  {
   "cell_type": "code",
   "execution_count": 18,
   "metadata": {},
   "outputs": [],
   "source": [
    "# Add data to the RDF graph\n",
    "for index, row in data_2.iterrows():\n",
    "    vehicle_uri = URIRef(ns[f\"Vehicle_2_{index}\"])\n",
    "    g2.add((vehicle_uri, RDF.type, Vehicle))\n",
    "    g2.add((vehicle_uri, brand, Literal(row['Brand'], datatype=XSD.string)))\n",
    "    g2.add((vehicle_uri, model, Literal(row['Model'].strip(), datatype=XSD.string)))\n",
    "    g2.add((vehicle_uri, year, Literal(row['Year'], datatype=XSD.integer)))\n",
    "    g2.add((vehicle_uri, fuelType, Literal(row['Fuel Type'], datatype=XSD.string)))\n",
    "    g2.add((vehicle_uri, engineHP, Literal(row['Engine HP'], datatype=XSD.float)))\n",
    "    g2.add((vehicle_uri, engineCylinders, Literal(row['Engine Cylinders'], datatype=XSD.integer)))\n",
    "    g2.add((vehicle_uri, transmission, Literal(row['Transmission'], datatype=XSD.string)))\n",
    "    g2.add((vehicle_uri, drive, Literal(row['Driven Wheels'], datatype=XSD.string)))\n",
    "    g2.add((vehicle_uri, numberOfDoors, Literal(row['Number of Doors'], datatype=XSD.integer)))\n",
    "    g2.add((vehicle_uri, marketCategory, Literal(row['Market Category'], datatype=XSD.string) if pd.notna(row['Market Category']) else Literal(\"N/A\")))\n",
    "    g2.add((vehicle_uri, vehicleSize, Literal(row['Vehicle Size'], datatype=XSD.string)))\n",
    "    g2.add((vehicle_uri, vehicleStyle, Literal(row['Vehicle Style'], datatype=XSD.string)))\n",
    "    g2.add((vehicle_uri, highwayMPG, Literal(row['Highway MPG'], datatype=XSD.integer)))\n",
    "    g2.add((vehicle_uri, cityMPG, Literal(row['City MPG'], datatype=XSD.integer)))\n",
    "    g2.add((vehicle_uri, popularity, Literal(row['Popularity'], datatype=XSD.integer)))\n",
    "    g2.add((vehicle_uri, price, Literal(row['Price'], datatype=XSD.integer)))\n"
   ]
  },
  {
   "cell_type": "code",
   "execution_count": 19,
   "metadata": {},
   "outputs": [
    {
     "data": {
      "text/plain": [
       "<Graph identifier=N9a831a5292c548c18c1333a44851746f (<class 'rdflib.graph.Graph'>)>"
      ]
     },
     "execution_count": 19,
     "metadata": {},
     "output_type": "execute_result"
    }
   ],
   "source": [
    "# Save the graph to a file\n",
    "rdf_file_path_2 = \"data_2.ttl\"\n",
    "g2.serialize(destination=rdf_file_path_2, format=\"turtle\")"
   ]
  },
  {
   "cell_type": "markdown",
   "metadata": {},
   "source": [
    "### Graph Setup and Merging the Graphs with Fatcs & Schema"
   ]
  },
  {
   "cell_type": "code",
   "execution_count": 21,
   "metadata": {},
   "outputs": [
    {
     "name": "stdout",
     "output_type": "stream",
     "text": [
      "Merged RDF graph created and saved.\n"
     ]
    }
   ],
   "source": [
    "# Initialize RDFLib Graphs\n",
    "ontology_graph = Graph()\n",
    "data_graph_1 = Graph()\n",
    "data_graph_2 = Graph()\n",
    "\n",
    "# Load ontology - update path and format as needed\n",
    "ontology_graph.parse(\"Vehicle Ontology Schema Overview.rdf\", format='xml')\n",
    "\n",
    "# Load your data from Turtle files\n",
    "data_graph_1.parse(\"data_1.ttl\", format='turtle')\n",
    "data_graph_2.parse(\"data_2.ttl\", format='turtle')\n",
    "\n",
    "# Merge the graphs\n",
    "merged_graph = ontology_graph + data_graph_1 + data_graph_2\n",
    "\n",
    "# Serialize the merged graph to a Turtle file\n",
    "merged_graph.serialize(\"merged_ontology_with_data.ttl\", format=\"turtle\")\n",
    "\n",
    "print(\"Merged RDF graph created and saved.\")\n"
   ]
  },
  {
   "cell_type": "markdown",
   "metadata": {},
   "source": [
    "### SPARQL"
   ]
  },
  {
   "cell_type": "code",
   "execution_count": 70,
   "metadata": {},
   "outputs": [
    {
     "data": {
      "text/plain": [
       "<Graph identifier=N3b0b2fcd00204e8582b72626cfb3959e (<class 'rdflib.graph.Graph'>)>"
      ]
     },
     "execution_count": 70,
     "metadata": {},
     "output_type": "execute_result"
    }
   ],
   "source": [
    "g = Graph()\n",
    "\n",
    "# Load your merged RDF graph\n",
    "g.parse(\"merged_ontology_with_data.ttl\", format=\"turtle\")"
   ]
  },
  {
   "cell_type": "code",
   "execution_count": 36,
   "metadata": {},
   "outputs": [
    {
     "name": "stdout",
     "output_type": "stream",
     "text": [
      "Vehicle: http://example.org/vehicle/Vehicle_1_0, Brand: Ford\n",
      "Vehicle: http://example.org/vehicle/Vehicle_1_1, Brand: Mercedes-Benz\n",
      "Vehicle: http://example.org/vehicle/Vehicle_1_10, Brand: Hyundai\n",
      "Vehicle: http://example.org/vehicle/Vehicle_1_100, Brand: Toyota\n",
      "Vehicle: http://example.org/vehicle/Vehicle_1_1000, Brand: ZAZ\n",
      "Vehicle: http://example.org/vehicle/Vehicle_1_10000, Brand: Volvo\n",
      "Vehicle: http://example.org/vehicle/Vehicle_1_10001, Brand: Toyota\n",
      "Vehicle: http://example.org/vehicle/Vehicle_1_10002, Brand: Toyota\n",
      "Vehicle: http://example.org/vehicle/Vehicle_1_10003, Brand: Nissan\n",
      "Vehicle: http://example.org/vehicle/Vehicle_1_10004, Brand: Lada\n"
     ]
    }
   ],
   "source": [
    "query_corrected_vehicles_brands = \"\"\"\n",
    "PREFIX ex: <http://example.org/vehicle/>\n",
    "SELECT ?vehicle ?brand\n",
    "WHERE {\n",
    "    ?vehicle a ex:Vehicle ;\n",
    "             ex:brand ?brand .\n",
    "}\n",
    "LIMIT 10\n",
    "\"\"\"\n",
    "\n",
    "# Assuming 'g' is your RDFLib graph instance\n",
    "for row in g.query(query_corrected_vehicles_brands):\n",
    "    print(f\"Vehicle: {row.vehicle}, Brand: {row.brand}\")\n"
   ]
  },
  {
   "cell_type": "code",
   "execution_count": 41,
   "metadata": {},
   "outputs": [
    {
     "name": "stdout",
     "output_type": "stream",
     "text": [
      "Model: Focus, Price: 550000\n",
      "Model: Focus, Price: 1350000\n",
      "Model: Focus, Price: 675000\n",
      "Model: Focus, Price: 1150000\n",
      "Model: Focus, Price: 830000\n",
      "Model: Focus, Price: 1481900\n",
      "Model: Focus, Price: 580000\n",
      "Model: Focus, Price: 1299000\n",
      "Model: Focus, Price: 933900\n",
      "Model: Focus, Price: 670000\n"
     ]
    }
   ],
   "source": [
    "query_models_prices = \"\"\"\n",
    "PREFIX ex: <http://example.org/vehicle/>\n",
    "SELECT ?model ?price\n",
    "WHERE {\n",
    "    ?vehicle ex:model ?model ;\n",
    "             ex:price ?price .\n",
    "}\n",
    "LIMIT 10\n",
    "\"\"\"\n",
    "\n",
    "for row in g.query(query_models_prices):\n",
    "    print(f\"Model: {row.model}, Price: {row.price}\")\n",
    "\n",
    "\n"
   ]
  },
  {
   "cell_type": "code",
   "execution_count": 43,
   "metadata": {},
   "outputs": [
    {
     "name": "stdout",
     "output_type": "stream",
     "text": [
      "Model: Focus, Horsepower: 125\n",
      "Model: Camry, Horsepower: 125\n",
      "Model: Expert, Horsepower: 125\n",
      "Model: Camry, Horsepower: 125\n",
      "Model: Allion, Horsepower: 125\n",
      "Model: Camry, Horsepower: 125\n",
      "Model: Allion, Horsepower: 125\n",
      "Model: Corona Exiv, Horsepower: 125\n",
      "Model: RAV4, Horsepower: 125\n",
      "Model: Allion, Horsepower: 125\n"
     ]
    }
   ],
   "source": [
    "query_vehicle_hp = \"\"\"\n",
    "PREFIX ex: <http://example.org/vehicle/>\n",
    "SELECT ?model ?hp\n",
    "WHERE {\n",
    "    ?vehicle ex:model ?model ;\n",
    "             ex:engineHP ?hp .\n",
    "}\n",
    "LIMIT 10\n",
    "\"\"\"\n",
    "\n",
    "for row in g.query(query_vehicle_hp):\n",
    "    print(f\"Model: {row.model}, Horsepower: {row.hp}\")\n",
    "\n"
   ]
  },
  {
   "cell_type": "code",
   "execution_count": 51,
   "metadata": {},
   "outputs": [
    {
     "name": "stdout",
     "output_type": "stream",
     "text": [
      "Vehicle: http://example.org/vehicle/Vehicle_2_10000, Price: 2000\n",
      "Vehicle: http://example.org/vehicle/Vehicle_2_1002, Price: 2000\n",
      "Vehicle: http://example.org/vehicle/Vehicle_2_1003, Price: 2000\n",
      "Vehicle: http://example.org/vehicle/Vehicle_2_1004, Price: 2000\n",
      "Vehicle: http://example.org/vehicle/Vehicle_2_1005, Price: 2000\n",
      "Vehicle: http://example.org/vehicle/Vehicle_2_10058, Price: 2000\n",
      "Vehicle: http://example.org/vehicle/Vehicle_2_10059, Price: 2000\n",
      "Vehicle: http://example.org/vehicle/Vehicle_2_1006, Price: 2000\n",
      "Vehicle: http://example.org/vehicle/Vehicle_2_10060, Price: 2000\n",
      "Vehicle: http://example.org/vehicle/Vehicle_2_10061, Price: 2000\n"
     ]
    }
   ],
   "source": [
    "query_sorted_by_price = \"\"\"\n",
    "PREFIX ex: <http://example.org/vehicle/>\n",
    "SELECT ?vehicle ?price\n",
    "WHERE {\n",
    "    ?vehicle ex:price ?price .\n",
    "}\n",
    "ORDER BY ?price\n",
    "LIMIT 10\n",
    "\"\"\"\n",
    "\n",
    "for row in g.query(query_sorted_by_price):\n",
    "    print(f\"Vehicle: {row.vehicle}, Price: {row.price}\")\n"
   ]
  },
  {
   "cell_type": "code",
   "execution_count": 55,
   "metadata": {},
   "outputs": [
    {
     "name": "stdout",
     "output_type": "stream",
     "text": [
      "Vehicle made between 2005 and 2010: http://example.org/vehicle/Vehicle_2_10014\n",
      "Vehicle made between 2005 and 2010: http://example.org/vehicle/Vehicle_2_10015\n",
      "Vehicle made between 2005 and 2010: http://example.org/vehicle/Vehicle_2_10016\n",
      "Vehicle made between 2005 and 2010: http://example.org/vehicle/Vehicle_2_10017\n",
      "Vehicle made between 2005 and 2010: http://example.org/vehicle/Vehicle_2_10018\n"
     ]
    }
   ],
   "source": [
    "query_vehicle_years_range = \"\"\"\n",
    "PREFIX ex: <http://example.org/vehicle/>\n",
    "SELECT ?vehicle\n",
    "WHERE {\n",
    "    ?vehicle ex:year ?year .\n",
    "    FILTER(?year >= 2005 && ?year <= 2010)\n",
    "}\n",
    "LIMIT 5\n",
    "\"\"\"\n",
    "\n",
    "for row in g.query(query_vehicle_years_range):\n",
    "    print(f\"Vehicle made between 2005 and 2010: {row.vehicle}\")\n",
    "\n",
    "\n"
   ]
  },
  {
   "cell_type": "code",
   "execution_count": 58,
   "metadata": {},
   "outputs": [
    {
     "name": "stdout",
     "output_type": "stream",
     "text": [
      "Brand: Ford, Average Price: 508752.3299191374663072776280\n",
      "Brand: Mercedes-Benz, Average Price: 3025445.372784810126582278481\n",
      "Brand: Hyundai, Average Price: 1452328.402912621359223300971\n",
      "Brand: Toyota, Average Price: 1610949.382453811262307777409\n",
      "Brand: ZAZ, Average Price: 217034.6279069767441860465116\n",
      "Brand: Volvo, Average Price: 876537.8277404921700223713647\n",
      "Brand: Nissan, Average Price: 1039486.135853190906600931252\n",
      "Brand: Lada, Average Price: 608274.9062420382165605095541\n",
      "Brand: Subaru, Average Price: 1026451.824667472793228536880\n",
      "Brand: Chevrolet, Average Price: 413271.3448275862068965517241\n"
     ]
    }
   ],
   "source": [
    "query_average_price_by_brand = \"\"\"\n",
    "PREFIX ex: <http://example.org/vehicle/>\n",
    "SELECT ?brand (AVG(?price) AS ?avgPrice)\n",
    "WHERE {\n",
    "    ?vehicle ex:brand ?brand ;\n",
    "             ex:price ?price .\n",
    "}\n",
    "GROUP BY ?brand\n",
    "LIMIT 10\n",
    "\"\"\"\n",
    "\n",
    "for row in g.query(query_average_price_by_brand):\n",
    "    print(f\"Brand: {row.brand}, Average Price: {row.avgPrice}\")\n",
    "\n"
   ]
  },
  {
   "cell_type": "code",
   "execution_count": 60,
   "metadata": {},
   "outputs": [
    {
     "name": "stdout",
     "output_type": "stream",
     "text": [
      "Vehicle: http://example.org/vehicle/Vehicle_1_0, Equipment: No equipment, Price: 550000\n",
      "Vehicle: http://example.org/vehicle/Vehicle_1_10000, Equipment: No equipment, Price: 550000\n",
      "Vehicle: http://example.org/vehicle/Vehicle_1_10009, Equipment: No equipment, Price: 550000\n",
      "Vehicle: http://example.org/vehicle/Vehicle_1_10083, Equipment: No equipment, Price: 550000\n",
      "Vehicle: http://example.org/vehicle/Vehicle_1_10234, Equipment: No equipment, Price: 550000\n"
     ]
    }
   ],
   "source": [
    "query_optional_equipment = \"\"\"\n",
    "PREFIX ex: <http://example.org/vehicle/>\n",
    "SELECT ?vehicle ?equipment ?price\n",
    "WHERE {\n",
    "    ?vehicle ex:price ?price .\n",
    "    OPTIONAL { ?vehicle ex:hasEquipment ?equipment . }\n",
    "}\n",
    "LIMIT 5\n",
    "\"\"\"\n",
    "\n",
    "for row in g.query(query_optional_equipment):\n",
    "    print(f\"Vehicle: {row.vehicle}, Equipment: {row.equipment if row.equipment else 'No equipment'}, Price: {row.price}\")\n"
   ]
  },
  {
   "cell_type": "code",
   "execution_count": 64,
   "metadata": {},
   "outputs": [
    {
     "name": "stdout",
     "output_type": "stream",
     "text": [
      "Vehicle: http://example.org/vehicle/Vehicle_1_0, Warranty Period: No warranty info, Last Service Date: No service info\n",
      "Vehicle: http://example.org/vehicle/Vehicle_1_10370, Warranty Period: No warranty info, Last Service Date: No service info\n",
      "Vehicle: http://example.org/vehicle/Vehicle_1_10445, Warranty Period: No warranty info, Last Service Date: No service info\n",
      "Vehicle: http://example.org/vehicle/Vehicle_1_10470, Warranty Period: No warranty info, Last Service Date: No service info\n",
      "Vehicle: http://example.org/vehicle/Vehicle_1_10521, Warranty Period: No warranty info, Last Service Date: No service info\n"
     ]
    }
   ],
   "source": [
    "query_nested_optional = \"\"\"\n",
    "PREFIX ex: <http://example.org/vehicle/>\n",
    "SELECT ?vehicle ?warrantyPeriod ?lastServiceDate\n",
    "WHERE {\n",
    "    ?vehicle ex:model ?model .\n",
    "    OPTIONAL {\n",
    "        ?vehicle ex:warrantyPeriod ?warrantyPeriod .\n",
    "        OPTIONAL { ?vehicle ex:lastServiceDate ?lastServiceDate . }\n",
    "    }\n",
    "}\n",
    "LIMIT 5\n",
    "\"\"\"\n",
    "\n",
    "for row in g.query(query_nested_optional):\n",
    "    print(f\"Vehicle: {row.vehicle}, Warranty Period: {row.warrantyPeriod if row.warrantyPeriod else 'No warranty info'}, Last Service Date: {row.lastServiceDate if row.lastServiceDate else 'No service info'}\")\n",
    "\n",
    "\n"
   ]
  },
  {
   "cell_type": "code",
   "execution_count": 66,
   "metadata": {},
   "outputs": [
    {
     "name": "stdout",
     "output_type": "stream",
     "text": [
      "Vehicle: http://example.org/vehicle/Vehicle_2_10272, Brand: Ford, Model: Taurus X, Year: 2008, Price: 31620\n",
      "Vehicle: http://example.org/vehicle/Vehicle_2_10273, Brand: Ford, Model: Taurus X, Year: 2008, Price: 28880\n",
      "Vehicle: http://example.org/vehicle/Vehicle_2_10274, Brand: Ford, Model: Taurus X, Year: 2008, Price: 29770\n",
      "Vehicle: http://example.org/vehicle/Vehicle_2_10275, Brand: Ford, Model: Taurus X, Year: 2008, Price: 27030\n",
      "Vehicle: http://example.org/vehicle/Vehicle_2_10276, Brand: Ford, Model: Taurus X, Year: 2008, Price: 32600\n",
      "Vehicle: http://example.org/vehicle/Vehicle_2_10277, Brand: Ford, Model: Taurus X, Year: 2008, Price: 30750\n",
      "Vehicle: http://example.org/vehicle/Vehicle_2_10278, Brand: Ford, Model: Taurus X, Year: 2009, Price: 32325\n",
      "Vehicle: http://example.org/vehicle/Vehicle_2_10279, Brand: Ford, Model: Taurus X, Year: 2009, Price: 33180\n",
      "Vehicle: http://example.org/vehicle/Vehicle_2_10280, Brand: Ford, Model: Taurus X, Year: 2009, Price: 34175\n",
      "Vehicle: http://example.org/vehicle/Vehicle_2_10281, Brand: Ford, Model: Taurus X, Year: 2009, Price: 31330\n"
     ]
    }
   ],
   "source": [
    "query_basic_info = \"\"\"\n",
    "PREFIX ex: <http://example.org/vehicle/>\n",
    "SELECT ?vehicle ?brand ?model ?year ?price\n",
    "WHERE {\n",
    "    ?vehicle ex:brand ?brand ;\n",
    "             ex:model ?model ;\n",
    "             ex:year ?year ;\n",
    "             ex:price ?price .\n",
    "}\n",
    "LIMIT 10\n",
    "\"\"\"\n",
    "\n",
    "for row in g.query(query_basic_info):\n",
    "    print(f\"Vehicle: {row.vehicle}, Brand: {row.brand}, Model: {row.model}, Year: {row.year}, Price: {row.price}\")\n"
   ]
  },
  {
   "cell_type": "code",
   "execution_count": 67,
   "metadata": {},
   "outputs": [
    {
     "name": "stdout",
     "output_type": "stream",
     "text": [
      "Vehicle: http://example.org/vehicle/Vehicle_2_4310, Brand: Ford, Model: Expedition, Year: 2016, Price: 58185\n",
      "Vehicle: http://example.org/vehicle/Vehicle_2_4311, Brand: Ford, Model: Expedition, Year: 2016, Price: 62025\n",
      "Vehicle: http://example.org/vehicle/Vehicle_2_4312, Brand: Ford, Model: Expedition, Year: 2016, Price: 62985\n",
      "Vehicle: http://example.org/vehicle/Vehicle_2_4313, Brand: Ford, Model: Expedition, Year: 2016, Price: 59375\n",
      "Vehicle: http://example.org/vehicle/Vehicle_2_4314, Brand: Ford, Model: Expedition, Year: 2016, Price: 66025\n",
      "Vehicle: http://example.org/vehicle/Vehicle_2_4315, Brand: Ford, Model: Expedition, Year: 2016, Price: 57795\n",
      "Vehicle: http://example.org/vehicle/Vehicle_2_4316, Brand: Ford, Model: Expedition, Year: 2016, Price: 60835\n",
      "Vehicle: http://example.org/vehicle/Vehicle_2_4317, Brand: Ford, Model: Expedition, Year: 2016, Price: 64945\n",
      "Vehicle: http://example.org/vehicle/Vehicle_2_4319, Brand: Ford, Model: Expedition, Year: 2016, Price: 63375\n",
      "Vehicle: http://example.org/vehicle/Vehicle_2_4321, Brand: Ford, Model: Expedition, Year: 2016, Price: 60335\n"
     ]
    }
   ],
   "source": [
    "query_check_year_price = \"\"\"\n",
    "PREFIX ex: <http://example.org/vehicle/>\n",
    "SELECT ?vehicle ?brand ?model ?year ?price\n",
    "WHERE {\n",
    "    ?vehicle ex:brand ?brand ;\n",
    "             ex:model ?model ;\n",
    "             ex:year ?year ;\n",
    "             ex:price ?price .\n",
    "    FILTER(?year > 2015 && ?price > 50000)\n",
    "}\n",
    "LIMIT 10\n",
    "\"\"\"\n",
    "\n",
    "for row in g.query(query_check_year_price):\n",
    "    print(f\"Vehicle: {row.vehicle}, Brand: {row.brand}, Model: {row.model}, Year: {row.year}, Price: {row.price}\")\n"
   ]
  }
 ],
 "metadata": {
  "kernelspec": {
   "display_name": "Python 3",
   "language": "python",
   "name": "python3"
  },
  "language_info": {
   "codemirror_mode": {
    "name": "ipython",
    "version": 3
   },
   "file_extension": ".py",
   "mimetype": "text/x-python",
   "name": "python",
   "nbconvert_exporter": "python",
   "pygments_lexer": "ipython3",
   "version": "3.12.1"
  }
 },
 "nbformat": 4,
 "nbformat_minor": 2
}
